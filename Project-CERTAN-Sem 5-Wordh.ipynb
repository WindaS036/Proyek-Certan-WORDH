{
 "cells": [
  {
   "cell_type": "markdown",
   "id": "11305b7c",
   "metadata": {},
   "source": [
    "# Catatan Kerja Praktikum\n",
    "<table align=\"left\">\n",
    "    <tr>\n",
    "        <td style=\"text-align:left\">Kode Mata Kuliah</td>\n",
    "        <td style=\"text-align:left\">:</td>\n",
    "        <td style=\"text-align:left\">10S3001</td>\n",
    "    </tr>\n",
    "    <tr>\n",
    "        <td style=\"text-align:left\">Nama Mata Kuliah</td>\n",
    "        <td style=\"text-align:left\">:</td>\n",
    "        <td style=\"text-align:left\">Kecerdasan Buatan</td>\n",
    "    </tr>\n",
    "    <tr>\n",
    "        <td style=\"text-align:left\">Topik</td>\n",
    "        <td style=\"text-align:left\">:</td>\n",
    "        <td style=\"text-align:left\"><i>K-Means dan Neural Network\n",
    "</i></td>\n",
    "    </tr>\n",
    "    <tr>\n",
    "        <td style=\"text-align:left\">NIM</td>\n",
    "        <td style=\"text-align:left\">:</td>\n",
    "        <td style=\"text-align:left\"><i>12S20036</i></td>\n",
    "    </tr>\n",
    "    <tr>\n",
    "        <td style=\"text-align:left\">Nama</td>\n",
    "        <td style=\"text-align:left\">:</td>\n",
    "        <td style=\"text-align:left\"><i>Winda Sari Butarbutar</i></td>\n",
    "    </tr>\n",
    "    <tr>\n",
    "        <td style=\"text-align:left\">NIM</td>\n",
    "        <td style=\"text-align:left\">:</td>\n",
    "        <td style=\"text-align:left\"><i>12S20053</i></td>\n",
    "    </tr>\n",
    "    <tr>\n",
    "        <td style=\"text-align:left\">Nama</td>\n",
    "        <td style=\"text-align:left\">:</td>\n",
    "        <td style=\"text-align:left\"><i>Andri A. Hutapea</i></td>\n",
    "    </tr>\n",
    "</table>"
   ]
  },
  {
   "cell_type": "markdown",
   "id": "09de1ed0",
   "metadata": {},
   "source": [
    "## Daftar Isi\n",
    "\n",
    "- [_Clustering using K-Means with scikit-learn_](#Assignment)"
   ]
  },
  {
   "cell_type": "markdown",
   "id": "6ad3852a",
   "metadata": {},
   "source": [
    "### <a class=\"anchor\" id=\"Assignment -\">Assignment - <i> Clustering using K-Means with scikit-learn</i></a>"
   ]
  },
  {
   "cell_type": "markdown",
   "id": "9043e023",
   "metadata": {},
   "source": [
    "Clustering using K-Means with scikit-learn"
   ]
  },
  {
   "cell_type": "code",
   "execution_count": 57,
   "id": "5b89cbb4",
   "metadata": {},
   "outputs": [],
   "source": [
    "#importing required libraries\n",
    "import pandas as pd\n",
    "import numpy as np\n",
    "import random as rd\n",
    "import matplotlib.pyplot as plt\n",
    "%matplotlib inline\n",
    "from sklearn.cluster import KMeans"
   ]
  },
  {
   "cell_type": "markdown",
   "id": "13fd16c9",
   "metadata": {},
   "source": [
    "Digunakan untuk membaca data dan melihat 5 baris pertama"
   ]
  },
  {
   "cell_type": "code",
   "execution_count": 58,
   "id": "dfd768bf",
   "metadata": {
    "scrolled": true
   },
   "outputs": [
    {
     "data": {
      "text/html": [
       "<div>\n",
       "<style scoped>\n",
       "    .dataframe tbody tr th:only-of-type {\n",
       "        vertical-align: middle;\n",
       "    }\n",
       "\n",
       "    .dataframe tbody tr th {\n",
       "        vertical-align: top;\n",
       "    }\n",
       "\n",
       "    .dataframe thead th {\n",
       "        text-align: right;\n",
       "    }\n",
       "</style>\n",
       "<table border=\"1\" class=\"dataframe\">\n",
       "  <thead>\n",
       "    <tr style=\"text-align: right;\">\n",
       "      <th></th>\n",
       "      <th>minat belajar meningkat ketika peralihan dari pembelajaran online ke offline</th>\n",
       "      <th>MinatBelajar.I</th>\n",
       "      <th>Faktor utama</th>\n",
       "      <th>FaktorUtama_I</th>\n",
       "      <th>Metode belajar apa yang paling anda minati?</th>\n",
       "      <th>MetodeBelajar_I</th>\n",
       "    </tr>\n",
       "  </thead>\n",
       "  <tbody>\n",
       "    <tr>\n",
       "      <th>0</th>\n",
       "      <td>iya</td>\n",
       "      <td>1</td>\n",
       "      <td>Lingkungan yang kurang nyaman</td>\n",
       "      <td>2</td>\n",
       "      <td>Metode belajar SQ3R(survey, question, read, re...</td>\n",
       "      <td>3</td>\n",
       "    </tr>\n",
       "    <tr>\n",
       "      <th>1</th>\n",
       "      <td>iya</td>\n",
       "      <td>1</td>\n",
       "      <td>Pengaruh penggunaan gadet</td>\n",
       "      <td>1</td>\n",
       "      <td>Metode belajar SQ3R(survey, question, read, re...</td>\n",
       "      <td>3</td>\n",
       "    </tr>\n",
       "    <tr>\n",
       "      <th>2</th>\n",
       "      <td>tidak</td>\n",
       "      <td>0</td>\n",
       "      <td>Pengaruh penggunaan gadet</td>\n",
       "      <td>1</td>\n",
       "      <td>Metode belajar SQ3R(survey, question, read, re...</td>\n",
       "      <td>3</td>\n",
       "    </tr>\n",
       "    <tr>\n",
       "      <th>3</th>\n",
       "      <td>iya</td>\n",
       "      <td>1</td>\n",
       "      <td>Pengaruh penggunaan gadet</td>\n",
       "      <td>1</td>\n",
       "      <td>Metode belajar mind mapping (mencatat dengan k...</td>\n",
       "      <td>1</td>\n",
       "    </tr>\n",
       "    <tr>\n",
       "      <th>4</th>\n",
       "      <td>iya</td>\n",
       "      <td>1</td>\n",
       "      <td>Minat atau bakat yang tidak sesuai</td>\n",
       "      <td>0</td>\n",
       "      <td>Metode belajar mind mapping (mencatat dengan k...</td>\n",
       "      <td>1</td>\n",
       "    </tr>\n",
       "  </tbody>\n",
       "</table>\n",
       "</div>"
      ],
      "text/plain": [
       "   minat belajar meningkat ketika peralihan dari pembelajaran online ke offline  \\\n",
       "0                                                iya                              \n",
       "1                                                iya                              \n",
       "2                                              tidak                              \n",
       "3                                                iya                              \n",
       "4                                                iya                              \n",
       "\n",
       "   MinatBelajar.I                        Faktor utama  FaktorUtama_I  \\\n",
       "0               1       Lingkungan yang kurang nyaman              2   \n",
       "1               1           Pengaruh penggunaan gadet              1   \n",
       "2               0           Pengaruh penggunaan gadet              1   \n",
       "3               1           Pengaruh penggunaan gadet              1   \n",
       "4               1  Minat atau bakat yang tidak sesuai              0   \n",
       "\n",
       "         Metode belajar apa yang paling anda minati?  MetodeBelajar_I  \n",
       "0  Metode belajar SQ3R(survey, question, read, re...                3  \n",
       "1  Metode belajar SQ3R(survey, question, read, re...                3  \n",
       "2  Metode belajar SQ3R(survey, question, read, re...                3  \n",
       "3  Metode belajar mind mapping (mencatat dengan k...                1  \n",
       "4  Metode belajar mind mapping (mencatat dengan k...                1  "
      ]
     },
     "execution_count": 58,
     "metadata": {},
     "output_type": "execute_result"
    }
   ],
   "source": [
    "#reading the data and looking at the first five roes of the data\n",
    "data = pd.read_csv('D:\\TEST\\HasilSurvey.csv')\n",
    "data.head()"
   ]
  },
  {
   "cell_type": "markdown",
   "id": "f04451cc",
   "metadata": {},
   "source": [
    "Keterangan :\n",
    "1. dataset dengan nama file HasilSurvey.csv akan dibaca atau diinisialisasi.Sehingga akan menampilkan tabel dari data, \n",
    "2. fungsi data.head() akan menampilkan 5 baris teratas dari data."
   ]
  },
  {
   "cell_type": "markdown",
   "id": "81651432",
   "metadata": {},
   "source": [
    "Mari kita pilih tiga variabel pada data \"FaktorUtama_I\" and “MetodeBelajar_I” "
   ]
  },
  {
   "cell_type": "code",
   "execution_count": 59,
   "id": "f6072009",
   "metadata": {
    "scrolled": true
   },
   "outputs": [
    {
     "data": {
      "image/png": "[encoded data removed]",
      "text/plain": [
       "<Figure size 864x432 with 1 Axes>"
      ]
     },
     "metadata": {
      "needs_background": "light"
     },
     "output_type": "display_data"
    }
   ],
   "source": [
    "X = data[[\"FaktorUtama_I\",\"MetodeBelajar_I\"]]\n",
    "\n",
    "#Visualise data points\n",
    "plt.figure(figsize=(12,6))\n",
    "plt.scatter(X[\"FaktorUtama_I\"], X[\"MetodeBelajar_I\"])\n",
    "plt.xlabel('FaktorUtama_I')\n",
    "plt.ylabel('MetodeBelajar_I')\n",
    "plt.show()               "
   ]
  },
  {
   "cell_type": "code",
   "execution_count": 66,
   "id": "cfb90618",
   "metadata": {
    "scrolled": true
   },
   "outputs": [
    {
     "data": {
      "image/png": "[encoded data removed]",
      "text/plain": [
       "<Figure size 864x432 with 1 Axes>"
      ]
     },
     "metadata": {
      "needs_background": "light"
     },
     "output_type": "display_data"
    }
   ],
   "source": [
    "#number of clusters\n",
    "K=2\n",
    "\n",
    "#Select random observation as centroids\n",
    "Centroids = (X.sample(n=K))\n",
    "plt.figure(figsize=(12,6))\n",
    "plt.scatter(X[\"FaktorUtama_I\"], X[\"MetodeBelajar_I\"])\n",
    "plt.scatter(Centroids[\"FaktorUtama_I\"], Centroids[\"MetodeBelajar_I\"], c='red')\n",
    "plt.xlabel ('FaktorUtama_I')\n",
    "plt.ylabel('MetodeBelajar_I')\n",
    "plt.show() "
   ]
  },
  {
   "cell_type": "markdown",
   "id": "04f2e018",
   "metadata": {},
   "source": [
    "Menggunakan FaktorUtama dan MetodeBelajar"
   ]
  },
  {
   "cell_type": "code",
   "execution_count": 67,
   "id": "091b2e66",
   "metadata": {},
   "outputs": [
    {
     "data": {
      "text/plain": [
       "<bound method NDFrame.describe of     FaktorUtama_I  MetodeBelajar_I\n",
       "0               2                3\n",
       "1               1                3\n",
       "2               1                3\n",
       "3               1                1\n",
       "4               0                1\n",
       "5               2                1\n",
       "6               3                1\n",
       "7               1                0\n",
       "8               2                3\n",
       "9               2                4\n",
       "10              2                0\n",
       "11              1                1\n",
       "12              2                3\n",
       "13              2                3\n",
       "14              3                4\n",
       "15              4                4\n",
       "16              2                3\n",
       "17              5                0\n",
       "18              3                3\n",
       "19              2                1\n",
       "20              0                3\n",
       "21              2                0\n",
       "22              2                4\n",
       "23              0                1\n",
       "24              1                1\n",
       "25              0                4\n",
       "26              2                3\n",
       "27              6                4\n",
       "28              1                1\n",
       "29              2                0\n",
       "30              3                1\n",
       "31              2                2\n",
       "32              2                3>"
      ]
     },
     "execution_count": 67,
     "metadata": {},
     "output_type": "execute_result"
    }
   ],
   "source": [
    "sltd_data = data[[\"FaktorUtama_I\", \"MetodeBelajar_I\"]]\n",
    "\n",
    "# statistics of the data\n",
    "sltd_data.describe"
   ]
  },
  {
   "cell_type": "markdown",
   "id": "3d85f0d6",
   "metadata": {},
   "source": [
    "Selanjutnya, mari kita baca datanya dan lihat lima baris pertama. "
   ]
  },
  {
   "cell_type": "code",
   "execution_count": 68,
   "id": "14739be3",
   "metadata": {},
   "outputs": [
    {
     "data": {
      "text/html": [
       "<div>\n",
       "<style scoped>\n",
       "    .dataframe tbody tr th:only-of-type {\n",
       "        vertical-align: middle;\n",
       "    }\n",
       "\n",
       "    .dataframe tbody tr th {\n",
       "        vertical-align: top;\n",
       "    }\n",
       "\n",
       "    .dataframe thead th {\n",
       "        text-align: right;\n",
       "    }\n",
       "</style>\n",
       "<table border=\"1\" class=\"dataframe\">\n",
       "  <thead>\n",
       "    <tr style=\"text-align: right;\">\n",
       "      <th></th>\n",
       "      <th>0</th>\n",
       "      <th>1</th>\n",
       "    </tr>\n",
       "  </thead>\n",
       "  <tbody>\n",
       "    <tr>\n",
       "      <th>count</th>\n",
       "      <td>3.300000e+01</td>\n",
       "      <td>3.300000e+01</td>\n",
       "    </tr>\n",
       "    <tr>\n",
       "      <th>mean</th>\n",
       "      <td>-5.467007e-18</td>\n",
       "      <td>1.009294e-16</td>\n",
       "    </tr>\n",
       "    <tr>\n",
       "      <th>std</th>\n",
       "      <td>1.015505e+00</td>\n",
       "      <td>1.015505e+00</td>\n",
       "    </tr>\n",
       "    <tr>\n",
       "      <th>min</th>\n",
       "      <td>-1.490389e+00</td>\n",
       "      <td>-1.492961e+00</td>\n",
       "    </tr>\n",
       "    <tr>\n",
       "      <th>25%</th>\n",
       "      <td>-7.219070e-01</td>\n",
       "      <td>-7.789362e-01</td>\n",
       "    </tr>\n",
       "    <tr>\n",
       "      <th>50%</th>\n",
       "      <td>4.657464e-02</td>\n",
       "      <td>6.491135e-01</td>\n",
       "    </tr>\n",
       "    <tr>\n",
       "      <th>75%</th>\n",
       "      <td>4.657464e-02</td>\n",
       "      <td>6.491135e-01</td>\n",
       "    </tr>\n",
       "    <tr>\n",
       "      <th>max</th>\n",
       "      <td>3.120501e+00</td>\n",
       "      <td>1.363138e+00</td>\n",
       "    </tr>\n",
       "  </tbody>\n",
       "</table>\n",
       "</div>"
      ],
      "text/plain": [
       "                  0             1\n",
       "count  3.300000e+01  3.300000e+01\n",
       "mean  -5.467007e-18  1.009294e-16\n",
       "std    1.015505e+00  1.015505e+00\n",
       "min   -1.490389e+00 -1.492961e+00\n",
       "25%   -7.219070e-01 -7.789362e-01\n",
       "50%    4.657464e-02  6.491135e-01\n",
       "75%    4.657464e-02  6.491135e-01\n",
       "max    3.120501e+00  1.363138e+00"
      ]
     },
     "execution_count": 68,
     "metadata": {},
     "output_type": "execute_result"
    }
   ],
   "source": [
    "#standardizing the data\n",
    "from sklearn.preprocessing import StandardScaler\n",
    "scaler = StandardScaler()\n",
    "data_scaled = scaler.fit_transform(sltd_data)\n",
    "\n",
    "#statistics of scaled data\n",
    "pd.DataFrame(data_scaled).describe()"
   ]
  },
  {
   "cell_type": "markdown",
   "id": "f508e124",
   "metadata": {},
   "source": [
    "Mari memvisualisasikan data yang dinormalisasi dengan scatter plot."
   ]
  },
  {
   "cell_type": "code",
   "execution_count": 69,
   "id": "a7c629f8",
   "metadata": {},
   "outputs": [
    {
     "data": {
      "text/plain": [
       "(-4.0, 5.0)"
      ]
     },
     "execution_count": 69,
     "metadata": {},
     "output_type": "execute_result"
    },
    {
     "data": {
      "image/png": "[encoded data removed]",
      "text/plain": [
       "<Figure size 864x432 with 1 Axes>"
      ]
     },
     "metadata": {
      "needs_background": "light"
     },
     "output_type": "display_data"
    }
   ],
   "source": [
    "#create sccatter plot\n",
    "plt.figure(figsize=(12,6))\n",
    "plt.scatter(data_scaled[:,0], data_scaled[:,1])\n",
    "plt.xlim(-4,2)\n",
    "plt.ylim(-4,5)"
   ]
  },
  {
   "cell_type": "markdown",
   "id": "50180e7f",
   "metadata": {},
   "source": [
    "Besarannya terlihat serupa sekarang. Selanjutnya, mari buat fungsi kmeans dan paskan pada data."
   ]
  },
  {
   "cell_type": "code",
   "execution_count": 70,
   "id": "62203949",
   "metadata": {},
   "outputs": [
    {
     "data": {
      "text/plain": [
       "KMeans(init='random', n_clusters=2)"
      ]
     },
     "execution_count": 70,
     "metadata": {},
     "output_type": "execute_result"
    }
   ],
   "source": [
    "#defining the kmeans function with initialization as random\n",
    "kmeans = KMeans(n_clusters=2, init='random')\n",
    "\n",
    "#fitting the k means algorithm on scaled data\n",
    "kmeans.fit(data_scaled)"
   ]
  },
  {
   "cell_type": "code",
   "execution_count": 71,
   "id": "9c60ba40",
   "metadata": {},
   "outputs": [],
   "source": [
    "#save new clusters for chart\n",
    "y_km = kmeans.fit_predict(data_scaled)"
   ]
  },
  {
   "cell_type": "markdown",
   "id": "bbbfe1cf",
   "metadata": {},
   "source": [
    "Mari kita evaluasi seberapa baik cluster yang terbentuk. Untuk melakukan itu, kita akan menghitung inersia dari cluster."
   ]
  },
  {
   "cell_type": "code",
   "execution_count": 72,
   "id": "331f48c4",
   "metadata": {
    "scrolled": true
   },
   "outputs": [
    {
     "data": {
      "text/plain": [
       "36.870566263747456"
      ]
     },
     "execution_count": 72,
     "metadata": {},
     "output_type": "execute_result"
    }
   ],
   "source": [
    "# inertia on the fitted data\n",
    "kmeans.inertia_"
   ]
  },
  {
   "cell_type": "markdown",
   "id": "91cac1ae",
   "metadata": {},
   "source": [
    "Memasang beberapa algoritme k-means dan menyimpan nilai dalam daftar kosong, dan mengonversi hasilnya menjadi kerangka data dan memplotnya"
   ]
  },
  {
   "cell_type": "code",
   "execution_count": 73,
   "id": "ac4b9a21",
   "metadata": {},
   "outputs": [
    {
     "name": "stderr",
     "output_type": "stream",
     "text": [
      "C:\\ProgramData\\Anaconda3\\lib\\site-packages\\sklearn\\cluster\\_kmeans.py:1036: UserWarning: KMeans is known to have a memory leak on Windows with MKL, when there are less chunks than available threads. You can avoid it by setting the environment variable OMP_NUM_THREADS=1.\n",
      "  warnings.warn(\n",
      "C:\\Users\\Win10\\AppData\\Local\\Temp\\ipykernel_8756\\1475071236.py:5: ConvergenceWarning: Number of distinct clusters (17) found smaller than n_clusters (18). Possibly due to duplicate points in X.\n",
      "  kmeans.fit(data_scaled)\n",
      "C:\\Users\\Win10\\AppData\\Local\\Temp\\ipykernel_8756\\1475071236.py:5: ConvergenceWarning: Number of distinct clusters (17) found smaller than n_clusters (19). Possibly due to duplicate points in X.\n",
      "  kmeans.fit(data_scaled)\n",
      "C:\\Users\\Win10\\AppData\\Local\\Temp\\ipykernel_8756\\1475071236.py:5: ConvergenceWarning: Number of distinct clusters (17) found smaller than n_clusters (20). Possibly due to duplicate points in X.\n",
      "  kmeans.fit(data_scaled)\n",
      "C:\\Users\\Win10\\AppData\\Local\\Temp\\ipykernel_8756\\1475071236.py:5: ConvergenceWarning: Number of distinct clusters (17) found smaller than n_clusters (21). Possibly due to duplicate points in X.\n",
      "  kmeans.fit(data_scaled)\n",
      "C:\\Users\\Win10\\AppData\\Local\\Temp\\ipykernel_8756\\1475071236.py:5: ConvergenceWarning: Number of distinct clusters (17) found smaller than n_clusters (22). Possibly due to duplicate points in X.\n",
      "  kmeans.fit(data_scaled)\n",
      "C:\\Users\\Win10\\AppData\\Local\\Temp\\ipykernel_8756\\1475071236.py:5: ConvergenceWarning: Number of distinct clusters (17) found smaller than n_clusters (23). Possibly due to duplicate points in X.\n",
      "  kmeans.fit(data_scaled)\n",
      "C:\\Users\\Win10\\AppData\\Local\\Temp\\ipykernel_8756\\1475071236.py:5: ConvergenceWarning: Number of distinct clusters (17) found smaller than n_clusters (24). Possibly due to duplicate points in X.\n",
      "  kmeans.fit(data_scaled)\n",
      "C:\\Users\\Win10\\AppData\\Local\\Temp\\ipykernel_8756\\1475071236.py:5: ConvergenceWarning: Number of distinct clusters (17) found smaller than n_clusters (25). Possibly due to duplicate points in X.\n",
      "  kmeans.fit(data_scaled)\n",
      "C:\\Users\\Win10\\AppData\\Local\\Temp\\ipykernel_8756\\1475071236.py:5: ConvergenceWarning: Number of distinct clusters (17) found smaller than n_clusters (26). Possibly due to duplicate points in X.\n",
      "  kmeans.fit(data_scaled)\n",
      "C:\\Users\\Win10\\AppData\\Local\\Temp\\ipykernel_8756\\1475071236.py:5: ConvergenceWarning: Number of distinct clusters (17) found smaller than n_clusters (27). Possibly due to duplicate points in X.\n",
      "  kmeans.fit(data_scaled)\n",
      "C:\\Users\\Win10\\AppData\\Local\\Temp\\ipykernel_8756\\1475071236.py:5: ConvergenceWarning: Number of distinct clusters (17) found smaller than n_clusters (28). Possibly due to duplicate points in X.\n",
      "  kmeans.fit(data_scaled)\n",
      "C:\\Users\\Win10\\AppData\\Local\\Temp\\ipykernel_8756\\1475071236.py:5: ConvergenceWarning: Number of distinct clusters (17) found smaller than n_clusters (29). Possibly due to duplicate points in X.\n",
      "  kmeans.fit(data_scaled)\n",
      "C:\\Users\\Win10\\AppData\\Local\\Temp\\ipykernel_8756\\1475071236.py:5: ConvergenceWarning: Number of distinct clusters (17) found smaller than n_clusters (30). Possibly due to duplicate points in X.\n",
      "  kmeans.fit(data_scaled)\n",
      "C:\\Users\\Win10\\AppData\\Local\\Temp\\ipykernel_8756\\1475071236.py:5: ConvergenceWarning: Number of distinct clusters (17) found smaller than n_clusters (31). Possibly due to duplicate points in X.\n",
      "  kmeans.fit(data_scaled)\n",
      "C:\\Users\\Win10\\AppData\\Local\\Temp\\ipykernel_8756\\1475071236.py:5: ConvergenceWarning: Number of distinct clusters (17) found smaller than n_clusters (32). Possibly due to duplicate points in X.\n",
      "  kmeans.fit(data_scaled)\n"
     ]
    },
    {
     "data": {
      "text/plain": [
       "Text(0, 0.5, 'Inertia')"
      ]
     },
     "execution_count": 73,
     "metadata": {},
     "output_type": "execute_result"
    },
    {
     "data": {
      "image/png": "[encoded data removed]",
      "text/plain": [
       "<Figure size 864x432 with 1 Axes>"
      ]
     },
     "metadata": {
      "needs_background": "light"
     },
     "output_type": "display_data"
    }
   ],
   "source": [
    "#fitting multiple k-means algorithms and storing the values in an empty list\n",
    "SSE = []\n",
    "for cluster in range(1,33):\n",
    "    kmeans = KMeans( n_clusters = cluster, init='random')\n",
    "    kmeans.fit(data_scaled)\n",
    "    SSE.append(kmeans.inertia_)\n",
    "    \n",
    " #converting the results into a dataframe and plotting them\n",
    "frame = pd.DataFrame({'Cluster':range(1,33), 'SSE':SSE})\n",
    "plt.figure(figsize=(12,6))\n",
    "plt.plot(frame['Cluster'], frame['SSE'], marker='o')\n",
    "plt.xlabel('Number of clusters')\n",
    "plt.ylabel('Inertia')"
   ]
  },
  {
   "cell_type": "markdown",
   "id": "7e259aa6",
   "metadata": {},
   "source": [
    "Cluster Optimal dari Plot"
   ]
  },
  {
   "cell_type": "code",
   "execution_count": 74,
   "id": "c9745004",
   "metadata": {},
   "outputs": [],
   "source": [
    "# k means using 3 clusters and random initialization\n",
    "kmeans = KMeans( n_clusters = 3, init='random')\n",
    "kmeans.fit(data_scaled)\n",
    "pred = kmeans.predict(data_scaled)"
   ]
  },
  {
   "cell_type": "markdown",
   "id": "276e4b21",
   "metadata": {},
   "source": [
    "Jumlah nilai poin di masing-masing cluster yang terbentuk di atas."
   ]
  },
  {
   "cell_type": "code",
   "execution_count": 75,
   "id": "e749d17a",
   "metadata": {},
   "outputs": [
    {
     "data": {
      "text/plain": [
       "2    16\n",
       "1    14\n",
       "0     3\n",
       "Name: cluster, dtype: int64"
      ]
     },
     "execution_count": 75,
     "metadata": {},
     "output_type": "execute_result"
    }
   ],
   "source": [
    "frame = pd.DataFrame(data_scaled)\n",
    "frame['cluster'] = pred\n",
    "frame['cluster'].value_counts()"
   ]
  },
  {
   "cell_type": "markdown",
   "id": "1d8baeba",
   "metadata": {},
   "source": [
    " K-Means Clustering dengan Python."
   ]
  },
  {
   "cell_type": "code",
   "execution_count": 76,
   "id": "2e0fc8ed",
   "metadata": {},
   "outputs": [
    {
     "data": {
      "text/plain": [
       "23.62605845756312"
      ]
     },
     "execution_count": 76,
     "metadata": {},
     "output_type": "execute_result"
    }
   ],
   "source": [
    "# inertia on the fitted data\n",
    "kmeans.inertia_"
   ]
  },
  {
   "cell_type": "markdown",
   "id": "38f7bd8d",
   "metadata": {},
   "source": [
    "Memvisualisasikan data"
   ]
  },
  {
   "cell_type": "code",
   "execution_count": 77,
   "id": "78c6c834",
   "metadata": {},
   "outputs": [],
   "source": [
    "# save new clusters for chart\n",
    "y_km = kmeans.fit_predict(data_scaled)"
   ]
  },
  {
   "cell_type": "code",
   "execution_count": 78,
   "id": "d34bbeb0",
   "metadata": {},
   "outputs": [
    {
     "data": {
      "text/plain": [
       "(-4.0, 5.0)"
      ]
     },
     "execution_count": 78,
     "metadata": {},
     "output_type": "execute_result"
    },
    {
     "data": {
      "image/png": "[encoded data removed]",
      "text/plain": [
       "<Figure size 864x432 with 1 Axes>"
      ]
     },
     "metadata": {
      "needs_background": "light"
     },
     "output_type": "display_data"
    }
   ],
   "source": [
    "# create scatter plot\n",
    "plt.figure(figsize=(12,6))\n",
    "plt.scatter(data_scaled[y_km ==0,0], data_scaled[y_km == 0,1], c='#003f5c')\n",
    "plt.scatter(data_scaled[y_km ==1,0], data_scaled[y_km == 1,1], c='#7a5195')\n",
    "plt.scatter(data_scaled[y_km ==2,0], data_scaled[y_km == 2,1], c='#ef5675')\n",
    "plt.xlim(-4,2)\n",
    "plt.ylim(-4,5)"
   ]
  },
  {
   "cell_type": "markdown",
   "id": "2f94a3a4",
   "metadata": {},
   "source": [
    "TERIMAKASIH"
   ]
  }
 ],
 "metadata": {
  "kernelspec": {
   "display_name": "Python 3 (ipykernel)",
   "language": "python",
   "name": "python3"
  },
  "language_info": {
   "codemirror_mode": {
    "name": "ipython",
    "version": 3
   },
   "file_extension": ".py",
   "mimetype": "text/x-python",
   "name": "python",
   "nbconvert_exporter": "python",
   "pygments_lexer": "ipython3",
   "version": "3.9.12"
  }
 },
 "nbformat": 4,
 "nbformat_minor": 5
}
